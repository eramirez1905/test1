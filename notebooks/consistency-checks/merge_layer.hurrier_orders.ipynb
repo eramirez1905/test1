{
 "cells": [
  {
   "cell_type": "code",
   "execution_count": null,
   "metadata": {},
   "outputs": [],
   "source": [
    "import pandas as pd\n",
    "import pandas.io.sql as psql\n",
    "import os\n",
    "\n",
    "from sqlalchemy import create_engine"
   ]
  },
  {
   "cell_type": "code",
   "execution_count": null,
   "metadata": {},
   "outputs": [],
   "source": [
    "# URL format: 'postgres+psycopg2://{user}:{password}@{host:port}/{dbname}'\n",
    "LOGISTICS_DWH_URL = os.environ[\"LOGISTICS_DWH_URL\"]\n",
    "PANDORA_DWH_URL = os.environ[\"PANDORA_DWH_URL\"]\n",
    "PANDORA_DWH_EXTERNAL_URL = os.environ[\"PANDORA_DWH_EXTERNAL_URL\"]"
   ]
  },
  {
   "cell_type": "code",
   "execution_count": null,
   "metadata": {},
   "outputs": [],
   "source": [
    "dwh_engine = create_engine(LOGISTICS_DWH_URL, echo=False, use_batch_mode=True)\n",
    "\n",
    "dwh_query = \"\"\"\n",
    "select o.id, o.created_at, o.updated_at\n",
    "from legacy_merge_layer.hurrier_orders o\n",
    "where o.country_code = 'th'\n",
    "\"\"\"\n",
    "\n",
    "dwh_data = pd.read_sql_query(dwh_query, dwh_engine, index_col='id', chunksize=200000)"
   ]
  },
  {
   "cell_type": "code",
   "execution_count": null,
   "metadata": {},
   "outputs": [],
   "source": [
    "pandora_engine = create_engine(PANDORA_DWH_URL, echo=False, use_batch_mode=True)\n",
    "\n",
    "pandora_query = \"\"\"\n",
    "select o.id, o.created_at, o.updated_at\n",
    "from merge_layer_rdbms_hurrier.orders o\n",
    "inner join dm_ops_fo.dim_countries c using (rdbms_id)\n",
    "where c.country_iso = 'TH'\n",
    "\"\"\"\n",
    "\n",
    "pandora_data = pd.read_sql_query(pandora_query, pandora_engine, index_col='id', chunksize=200000)"
   ]
  },
  {
   "cell_type": "code",
   "execution_count": null,
   "metadata": {},
   "outputs": [],
   "source": [
    "# pd.merge(dwh_data, pandora_data, on='id', how='right', suffixes=('_logistics', '_pandora'))"
   ]
  },
  {
   "cell_type": "code",
   "execution_count": null,
   "metadata": {},
   "outputs": [],
   "source": [
    "# Identify what values are in pandora_data and not in dwh_data\n",
    "key_diff = set(pandora_data.Key).difference(dwh_data.Key)\n",
    "pandora_data.Key.isin(key_diff)"
   ]
  },
  {
   "cell_type": "code",
   "execution_count": null,
   "metadata": {},
   "outputs": [],
   "source": []
  }
 ],
 "metadata": {
  "kernelspec": {
   "display_name": "Python 3",
   "language": "python",
   "name": "python3"
  },
  "language_info": {
   "codemirror_mode": {
    "name": "ipython",
    "version": 3
   },
   "file_extension": ".py",
   "mimetype": "text/x-python",
   "name": "python",
   "nbconvert_exporter": "python",
   "pygments_lexer": "ipython3",
   "version": "3.5.2"
  }
 },
 "nbformat": 4,
 "nbformat_minor": 2
}
